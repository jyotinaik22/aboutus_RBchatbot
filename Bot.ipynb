{
 "metadata": {
  "language_info": {
   "codemirror_mode": {
    "name": "ipython",
    "version": 3
   },
   "file_extension": ".py",
   "mimetype": "text/x-python",
   "name": "python",
   "nbconvert_exporter": "python",
   "pygments_lexer": "ipython3",
   "version": "3.8.3-final"
  },
  "orig_nbformat": 2,
  "kernelspec": {
   "name": "python3",
   "display_name": "Python 3"
  }
 },
 "nbformat": 4,
 "nbformat_minor": 2,
 "cells": [
  {
   "cell_type": "code",
   "execution_count": 1,
   "metadata": {},
   "outputs": [],
   "source": [
    "#Required modules importing\n",
    "import re #Regular Explession library.\n",
    "from nltk.corpus import wordnet #NLP library files from NLTK library."
   ]
  },
  {
   "cell_type": "code",
   "execution_count": 2,
   "metadata": {},
   "outputs": [
    {
     "output_type": "stream",
     "name": "stdout",
     "text": [
      "{'name': {'discover', 'cite', 'call', 'figure', 'advert', 'list', 'distinguish', 'appoint', 'refer', 'key out', 'name', 'public figure', 'bring up', 'identify', 'key', 'epithet', 'nominate', 'make', 'describe', 'diagnose', 'gens', 'constitute', 'mention'}, 'nickname': {'soubriquet', 'moniker', 'nickname', 'byname', 'sobriquet', 'cognomen', 'dub'}, 'about': {'some', 'around', 'close to', 'just about', 'most', 'nearly', 'or so', 'more or less', 'approximately', 'almost', 'well nigh', 'nigh', 'about', 'near', 'roughly', 'astir', 'virtually'}, 'pursue': {'go after', 'follow', 'pursue', 'quest for', 'follow up on', 'act on', 'engage', 'quest after', 'prosecute'}, 'reached': {'extend to', 'hit', 'strain', 'pass', 'get hold of', 'gain', 'progress to', 'arrive at', 'contact', 'get to', 'strive', 'reach', 'hand', 'get through', 'make', 'touch', 'pass on', 'give', 'attain', 'turn over', 'achieve', 'reach out', 'accomplish'}, 'passion': {'passionateness', 'Passion', 'warmth', 'rage', 'passion', 'love', 'cacoethes', 'heat', 'Passion of Christ', 'mania'}, 'achievement': {'accomplishment', 'achievement'}, 'future_plan': set()}\n"
     ]
    }
   ],
   "source": [
    "#Building list of words\n",
    "words_list = ['name', 'nickname', 'about', 'pursue', 'reached', 'passion', 'achievement', 'future_plan']\n",
    "#Synonym dictionary\n",
    "syn_dict = {}\n",
    "#Building dictionary of words using wordnet\n",
    "for word in words_list:\n",
    "    synonyms = [] #Synonym list for the word\n",
    "    for syn in wordnet.synsets(word):\n",
    "        for lem in syn.lemmas():\n",
    "            lem_name = re.sub('[^a-zA-Z0-9 \\n\\.]', ' ', lem.name())\n",
    "            synonyms.append(lem_name)\n",
    "    syn_dict[word] = set(synonyms)\n",
    "print(syn_dict)"
   ]
  },
  {
   "cell_type": "code",
   "execution_count": 5,
   "metadata": {},
   "outputs": [],
   "source": [
    "#Building dictionary of Intents and Keywords\n",
    "keywords = {}\n",
    "dict_keywords = {}\n",
    "\n",
    "#Defining new key in keywords dictionary.\n",
    "keywords['fullname'] = []\n",
    "\n",
    "#Adding values to keywords dictionary from synonyms of keyword and RegEx expressions.\n",
    "for synonym in list(syn_dict['name']):\n",
    "    keywords['fullname'].append('.*\\\\b'+synonym+'\\\\b.*')\n",
    "\n",
    "#Defining new key in keywords dictionary.\n",
    "keywords['shortname'] = []\n",
    "\n",
    "#Adding values to keywords dictionary from synonyms of keyword and RegEx expressions.\n",
    "for synonym in list(syn_dict['nickname']):\n",
    "    keywords['shortname'].append('.*\\\\b'+synonym+'\\\\b.*')\n",
    "\n",
    "#Defining new key in keywords dictionary.\n",
    "keywords['who'] = []\n",
    "\n",
    "#Adding values to keywords dictionary from synonyms of keyword and RegEx expressions.\n",
    "for synonym in list(syn_dict['about']):\n",
    "    keywords['who'].append('.*\\\\b'+synonym+'\\\\b.*')\n",
    "\n",
    "#Defining new key in keywords dictionary.\n",
    "keywords['currentwork'] = []\n",
    "\n",
    "#Adding values to keywords dictionary from synonyms of keyword and RegEx expressions.\n",
    "for synonym in list(syn_dict['pursue']):\n",
    "    keywords['currentwork'].append('.*\\\\b'+synonym+'\\\\b.*')\n",
    "\n",
    "#Defining new key in keywords dictionary.\n",
    "keywords['journey'] = []\n",
    "\n",
    "#Adding values to keywords dictionary from synonyms of keyword and RegEx expressions.\n",
    "for synonym in list(syn_dict['reached']):\n",
    "    keywords['journey'].append('.*\\\\b'+synonym+'\\\\b.*')\n",
    "\n",
    "#Defining new key in keywords dictionary.\n",
    "keywords['passion'] = []\n",
    "\n",
    "#Adding values to keywords dictionary from synonyms of keyword and RegEx expressions.\n",
    "for synonym in list(syn_dict['passion']):\n",
    "    keywords['passion'].append('.*\\\\b'+synonym+'\\\\b.*')\n",
    "\n",
    "#Defining new key in keywords dictionary.\n",
    "keywords['accomplishment'] = []\n",
    "\n",
    "#Adding values to keywords dictionary from synonyms of keyword and RegEx expressions.\n",
    "for synonym in list(syn_dict['achievement']):\n",
    "    keywords['accomplishment'].append('.*\\\\b'+synonym+'\\\\b.*')\n",
    "\n",
    "#Defining new key in keywords dictionary.\n",
    "keywords['goals'] = []\n",
    "\n",
    "#Adding values to keywords dictionary from synonyms of keyword and RegEx expressions.\n",
    "for synonym in list(syn_dict['future_plan']):\n",
    "    keywords['goals'].append('.*\\\\b'+synonym+'\\\\b.*')\n",
    "\n"
   ]
  },
  {
   "cell_type": "code",
   "execution_count": 5,
   "metadata": {},
   "outputs": [
    {
     "output_type": "stream",
     "name": "stdout",
     "text": [
      "{'fullname': re.compile('.*\\\\bpublic figure\\\\b.*|.*\\\\bfigure\\\\b.*|.*\\\\bname\\\\b.*|.*\\\\bkey\\\\b.*|.*\\\\bappoint\\\\b.*|.*\\\\brefer\\\\b.*|.*\\\\bidentify\\\\b.*|.*\\\\bbring up\\\\b.*|.*\\\\bkey out\\\\b.*|.*\\\\bcite\\\\b.*|.*\\\\bgens\\\\b.*|.*\\\\bcall), 'shortname': re.compile('.*\\\\bnickname\\\\b.*|.*\\\\bsobriquet\\\\b.*|.*\\\\bmoniker\\\\b.*|.*\\\\bsoubriquet\\\\b.*|.*\\\\bdub\\\\b.*|.*\\\\bcognomen\\\\b.*|.*\\\\bbyname\\\\b.*'), 'who': re.compile('.*\\\\bvirtually\\\\b.*|.*\\\\bor so\\\\b.*|.*\\\\bnigh\\\\b.*|.*\\\\bwell nigh\\\\b.*|.*\\\\balmost\\\\b.*|.*\\\\bastir\\\\b.*|.*\\\\bclose to\\\\b.*|.*\\\\baround\\\\b.*|.*\\\\bnearly\\\\b.*|.*\\\\bnear\\\\b.*|.*\\\\bapproximately\\\\b.*|.*\\), 'currentwork': re.compile('.*\\\\bengage\\\\b.*|.*\\\\bfollow\\\\b.*|.*\\\\bact on\\\\b.*|.*\\\\bquest after\\\\b.*|.*\\\\bfollow up on\\\\b.*|.*\\\\bpursue\\\\b.*|.*\\\\bquest for\\\\b.*|.*\\\\bgo after\\\\b.*|.*\\\\bprosecute\\\\b.*'), 'journey': re.compile('.*\\\\bgain\\\\b.*|.*\\\\battain\\\\b.*|.*\\\\bget to\\\\b.*|.*\\\\btouch\\\\b.*|.*\\\\bprogress to\\\\b.*|.*\\\\bhit\\\\b.*|.*\\\\baccomplish\\\\b.*|.*\\\\bgive\\\\b.*|.*\\\\bachieve\\\\b.*|.*\\\\bmake\\\\b.*|.*\\\\bstrive\\\\b.*|.*\\\\bhand\\\\b)}\n"
     ]
    }
   ],
   "source": [
    "#Joining the values in the keywords dictionary with the OR operator and updating dict_keywords.\n",
    "for intent, keys in keywords.items():\n",
    "    dict_keywords[intent] = re.compile('|'.join(keys))\n",
    "print(dict_keywords)"
   ]
  },
  {
   "cell_type": "code",
   "execution_count": 6,
   "metadata": {},
   "outputs": [],
   "source": [
    "#Building the dictionary of responses for Faizan:\n",
    "responses_f = {\n",
    "    'fullname': 'His full name is Faizan Azim.',\n",
    "    'shortname': 'He is known to be called as Faizan.',\n",
    "    'who': 'He is a Computer Science undergraduate from National Institute of Science and Technology.',\n",
    "    'currentwork': 'He is pursuing graduation in Computer Science and Engineering from National Institute of Science and Technology.',\n",
    "    'journey': \"Faizan has done his Matriculation from St. Xavier's High School under CBSE board of education. After that he did his Intermediate course in Science stream from Vignan Junior College under CHSE board of education.\",\n",
    "    'fallback': 'Sorry, I was not able to understand that.'\n",
    "}\n",
    "#TODO@faizanazim11 finish the dictionary of responses after completion of keywords dictionary, Create a general response dictionary.\n",
    "#TODO@jyotinaik22 Create the dictionary of responses for Jyoti.\n",
    "responses_j ={\n",
    "    'fullname': 'Her full name is Jyotirmayee Naik.',\n",
    "    'shortname': 'She is known to be called as Jyoti.',\n",
    "    'who': 'She is an undergraduate Computer Science student.',\n",
    "    'currentwork': 'She is pursuing graduation in Computer Science and Engineering from National Institute of Science and Technology.',\n",
    "    'journey': 'She did her matriculation and intermediate from D.A.V. Public School, MCL Bandhabahal under Delhi CBSE board.',\n",
    "    'passion': 'She is passionate about designing and customizing the things.'\n",
    "    'achievement': 'She got 2nd prize in Inter Zonal Painting Competition and 3rd prize in Inter Zonal Science Exhibition.',\n",
    "    'future plan': 'She wants to be a good designer so that her minimalist designs and simplicity in code will help others. '\n",
    "}\n",
    "\n",
    "#TODO@faizanazim11 and @jyotinaik22 Create the chatbot loop."
   ]
  },
  {
   "cell_type": "code",
   "execution_count": null,
   "metadata": {},
   "outputs": [],
   "source": []
  }
 ]
}