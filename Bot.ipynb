{
 "metadata": {
  "language_info": {
   "codemirror_mode": {
    "name": "ipython",
    "version": 3
   },
   "file_extension": ".py",
   "mimetype": "text/x-python",
   "name": "python",
   "nbconvert_exporter": "python",
   "pygments_lexer": "ipython3",
   "version": "3.8.3-final"
  },
  "orig_nbformat": 2,
  "kernelspec": {
   "name": "python3",
   "display_name": "Python 3",
   "language": "python"
  }
 },
 "nbformat": 4,
 "nbformat_minor": 2,
 "cells": [
  {
   "cell_type": "code",
   "execution_count": 65,
   "metadata": {},
   "outputs": [],
   "source": [
    "#Required modules importing\n",
    "import re #Regular Explession library.\n",
    "from nltk.corpus import wordnet #NLP library files from NLTK library."
   ]
  },
  {
   "cell_type": "code",
   "execution_count": 66,
   "metadata": {},
   "outputs": [
    {
     "output_type": "stream",
     "name": "stdout",
     "text": [
      "{'name': {'appoint', 'advert', 'mention', 'epithet', 'make', 'refer', 'list', 'call', 'name', 'distinguish', 'gens', 'bring up', 'constitute', 'key out', 'describe', 'key', 'figure', 'discover', 'public figure', 'identify', 'cite', 'diagnose', 'nominate'}, 'nickname': {'byname', 'dub', 'soubriquet', 'nickname', 'cognomen', 'moniker', 'sobriquet'}, 'about': {'nearly', 'astir', 'roughly', 'approximately', 'some', 'nigh', 'close to', 'most', 'near', 'more or less', 'around', 'about', 'almost', 'just about', 'or so', 'virtually', 'well nigh'}, 'pursue': {'quest for', 'quest after', 'go after', 'prosecute', 'follow', 'engage', 'pursue', 'act on', 'follow up on'}, 'qualification': {'reservation', 'qualification', 'making'}, 'reached': {'reach out', 'achieve', 'hit', 'get to', 'turn over', 'hand', 'make', 'arrive at', 'get through', 'reach', 'pass on', 'touch', 'attain', 'contact', 'strain', 'accomplish', 'strive', 'give', 'gain', 'get hold of', 'progress to', 'pass', 'extend to'}, 'passion': {'passion', 'warmth', 'mania', 'heat', 'rage', 'love', 'passionateness', 'Passion of Christ', 'cacoethes', 'Passion'}, 'achievement': {'accomplishment', 'achievement'}, 'future': {'hereafter', 'succeeding', 'future', 'future tense', 'next', 'futurity', 'time to come'}, 'plan': {'program', 'project', 'architectural plan', 'design', 'be after', 'programme', 'plan', 'contrive'}, 'hello': {'hullo', 'how do you do', 'howdy', 'hi', 'hello'}, 'whom': set()}\n"
     ]
    }
   ],
   "source": [
    "#Building list of words\n",
    "words_list = ['name', 'nickname', 'about', 'pursue', 'qualification', 'reached', 'passion', 'achievement', 'future', 'plan', 'hello', 'whom']\n",
    "#Synonym dictionary\n",
    "syn_dict = {}\n",
    "#Building dictionary of words using wordnet\n",
    "for word in words_list:\n",
    "    synonyms = [] #Synonym list for the word\n",
    "    for syn in wordnet.synsets(word):\n",
    "        for lem in syn.lemmas():\n",
    "            lem_name = re.sub('[^a-zA-Z0-9 \\n\\.]', ' ', lem.name())\n",
    "            synonyms.append(lem_name)\n",
    "    syn_dict[word] = set(synonyms)\n",
    "print(syn_dict)"
   ]
  },
  {
   "cell_type": "code",
   "execution_count": 67,
   "metadata": {},
   "outputs": [],
   "source": [
    "#Building dictionary of Intents and Keywords\n",
    "keywords = {}\n",
    "dict_keywords = {}\n",
    "\n",
    "#Defining new key in keywords dictionary.\n",
    "keywords['fullname'] = []\n",
    "\n",
    "#Adding values to keywords dictionary from synonyms of keyword and RegEx expressions.\n",
    "for synonym in list(syn_dict['name']):\n",
    "    keywords['fullname'].append('.*\\\\b'+synonym+'\\\\b.*')\n",
    "\n",
    "#Defining new key in keywords dictionary.\n",
    "keywords['shortname'] = []\n",
    "\n",
    "#Adding values to keywords dictionary from synonyms of keyword and RegEx expressions.\n",
    "for synonym in list(syn_dict['nickname']):\n",
    "    keywords['shortname'].append('.*\\\\b'+synonym+'\\\\b.*')\n",
    "\n",
    "#Defining new key in keywords dictionary.\n",
    "keywords['who'] = []\n",
    "\n",
    "#Adding values to keywords dictionary from synonyms of keyword and RegEx expressions.\n",
    "for synonym in list(syn_dict['about']):\n",
    "    keywords['who'].append('.*\\\\b'+synonym+'\\\\b.*')\n",
    "\n",
    "#Adding custom keyword in dictionary to get resultant output.\n",
    "keywords['who'].append('.*\\\\b'+'who'+'\\\\b.*')\n",
    "\n",
    "\n",
    "#Defining new key in keywords dictionary.\n",
    "keywords['currentwork'] = []\n",
    "\n",
    "#Adding values to keywords dictionary from synonyms of keyword and RegEx expressions.\n",
    "for synonym in list(syn_dict['pursue']):\n",
    "    keywords['currentwork'].append('.*\\\\b'+synonym+'\\\\b.*')\n",
    "\n",
    "#Defining new key in keywords dictionary.\n",
    "keywords['journey'] = []\n",
    "\n",
    "#Adding values to keywords dictionary from synonyms of keyword and RegEx expressions.\n",
    "for synonym in list(syn_dict['qualification']):\n",
    "    keywords['journey'].append('.*\\\\b'+synonym+'\\\\b.*')\n",
    "\n",
    "#Adding values to keywords dictionary from synonyms of keyword and RegEx expressions.\n",
    "for synonym in list(syn_dict['reached']):\n",
    "    keywords['journey'].append('.*\\\\b'+synonym+'\\\\b.*')\n",
    "\n",
    "#Defining new key in keywords dictionary.\n",
    "keywords['passion'] = []\n",
    "\n",
    "#Adding values to keywords dictionary from synonyms of keyword and RegEx expressions.\n",
    "for synonym in list(syn_dict['passion']):\n",
    "    keywords['passion'].append('.*\\\\b'+synonym+'\\\\b.*')\n",
    "\n",
    "#Defining new key in keywords dictionary.\n",
    "keywords['accomplishment'] = []\n",
    "\n",
    "#Adding values to keywords dictionary from synonyms of keyword and RegEx expressions.\n",
    "for synonym in list(syn_dict['achievement']):\n",
    "    keywords['accomplishment'].append('.*\\\\b'+synonym+'\\\\b.*')\n",
    "\n",
    "#Defining new key in keywords dictionary.\n",
    "keywords['goals'] = []\n",
    "\n",
    "#Adding values to keywords dictionary from synonyms of keyword and RegEx expressions.\n",
    "for synonym in list(syn_dict['future']):\n",
    "    keywords['goals'].append('.*\\\\b'+synonym+'\\\\b.*')\n",
    "\n",
    "#Adding values to keywords dictionary from synonyms of keyword and RegEx expressions.\n",
    "for synonym in list(syn_dict['plan']):\n",
    "    keywords['goals'].append('.*\\\\b'+synonym+'\\\\b.*')\n",
    "\n",
    "#Defining new key in keywords dictionary.\n",
    "keywords['greet'] = []\n",
    "\n",
    "#Adding values to keywords dictionary from synonyms of keyword and RegEx expressions.\n",
    "for synonym in list(syn_dict['hello']):\n",
    "    keywords['greet'].append('.*\\\\b'+synonym+'\\\\b.*')"
   ]
  },
  {
   "cell_type": "code",
   "execution_count": 68,
   "metadata": {},
   "outputs": [
    {
     "output_type": "stream",
     "name": "stdout",
     "text": [
      "{'fullname': re.compile('.*\\\\bappoint\\\\b.*|.*\\\\badvert\\\\b.*|.*\\\\bmention\\\\b.*|.*\\\\bepithet\\\\b.*|.*\\\\bmake\\\\b.*|.*\\\\brefer\\\\b.*|.*\\\\blist\\\\b.*|.*\\\\bcall\\\\b.*|.*\\\\bname\\\\b.*|.*\\\\bdistinguish\\\\b.*|.*\\\\bgens\\\\b.*|.*\\\\bbring up\\\\), 'shortname': re.compile('.*\\\\bbyname\\\\b.*|.*\\\\bdub\\\\b.*|.*\\\\bsoubriquet\\\\b.*|.*\\\\bnickname\\\\b.*|.*\\\\bcognomen\\\\b.*|.*\\\\bmoniker\\\\b.*|.*\\\\bsobriquet\\\\b.*'), 'who': re.compile('.*\\\\bnearly\\\\b.*|.*\\\\bastir\\\\b.*|.*\\\\broughly\\\\b.*|.*\\\\bapproximately\\\\b.*|.*\\\\bsome\\\\b.*|.*\\\\bnigh\\\\b.*|.*\\\\bclose to\\\\b.*|.*\\\\bmost\\\\b.*|.*\\\\bnear\\\\b.*|.*\\\\bmore or less\\\\b.*|.*\\\\baround\\\\b.*|.*\\\\b), 'currentwork': re.compile('.*\\\\bquest for\\\\b.*|.*\\\\bquest after\\\\b.*|.*\\\\bgo after\\\\b.*|.*\\\\bprosecute\\\\b.*|.*\\\\bfollow\\\\b.*|.*\\\\bengage\\\\b.*|.*\\\\bpursue\\\\b.*|.*\\\\bact on\\\\b.*|.*\\\\bfollow up on\\\\b.*'), 'journey': re.compile('.*\\\\breservation\\\\b.*|.*\\\\bqualification\\\\b.*|.*\\\\bmaking\\\\b.*|.*\\\\breach out\\\\b.*|.*\\\\bachieve\\\\b.*|.*\\\\bhit\\\\b.*|.*\\\\bget to\\\\b.*|.*\\\\bturn over\\\\b.*|.*\\\\bhand\\\\b.*|.*\\\\bmake\\\\b.*|.*\\\\barrive at\\\\b), 'passion': re.compile('.*\\\\bpassion\\\\b.*|.*\\\\bwarmth\\\\b.*|.*\\\\bmania\\\\b.*|.*\\\\bheat\\\\b.*|.*\\\\brage\\\\b.*|.*\\\\blove\\\\b.*|.*\\\\bpassionateness\\\\b.*|.*\\\\bPassion of Christ\\\\b.*|.*\\\\bcacoethes\\\\b.*|.*\\\\bPassion\\\\b.*'), 'accomplishment': re.compile('.*\\\\baccomplishment\\\\b.*|.*\\\\bachievement\\\\b.*'), 'goals': re.compile('.*\\\\bhereafter\\\\b.*|.*\\\\bsucceeding\\\\b.*|.*\\\\bfuture\\\\b.*|.*\\\\bfuture tense\\\\b.*|.*\\\\bnext\\\\b.*|.*\\\\bfuturity\\\\b.*|.*\\\\btime to come\\\\b.*|.*\\\\bprogram\\\\b.*|.*\\\\bproject\\\\b.*|.*\\\\barchitectural plan\\\\), 'greet': re.compile('.*\\\\bhullo\\\\b.*|.*\\\\bhow do you do\\\\b.*|.*\\\\bhowdy\\\\b.*|.*\\\\bhi\\\\b.*|.*\\\\bhello\\\\b.*')}\n"
     ]
    }
   ],
   "source": [
    "#Joining the values in the keywords dictionary with the OR operator and updating dict_keywords.\n",
    "for intent, keys in keywords.items():\n",
    "    dict_keywords[intent] = re.compile('|'.join(keys))\n",
    "print(dict_keywords)\n"
   ]
  },
  {
   "cell_type": "code",
   "execution_count": 69,
   "metadata": {},
   "outputs": [],
   "source": [
    "#Building the dictionary of responses for Faizan:\n",
    "responses_f = {\n",
    "    'fullname': 'His full name is Faizan Azim.',\n",
    "    'shortname': 'He is known to be called as Faizan.',\n",
    "    'who': 'He is a Computer Science undergraduate from National Institute of Science and Technology.',\n",
    "    'currentwork': 'He is pursuing graduation in Computer Science and Engineering from National Institute of Science and Technology.',\n",
    "    'journey': \"Faizan has done his Matriculation from St. Xavier's High School under CBSE board of education. After that he did his Intermediate course in Science stream from Vignan Junior College under CHSE board of education.\",\n",
    "    'passion': \"Faizan likes to fix computer issues majorly a software issue, due to which he is also into learning how the softwares work. He likes to write programs and solve problems. No wonder why he likes solving puzzles and riddles so much.\",\n",
    "    'accomplishment': \"Faizan has entered into inter college competitions and won some prizes, other than that he currently does not have any achievements.\",\n",
    "    'goals': \"Faizan wants to learn more about computers and more specificly Software and would like to take his passion on another level by helping to create a software that will solve any problem faceed by humans.\",\n",
    "    'fallback': 'Sorry, I was not able to understand that.'\n",
    "}\n",
    "\n",
    "#Building the dictionary of responses for Jyoti:\n",
    "responses_j = {\n",
    "    'fullname': 'Her full name is Jyotirmayee Naik.',\n",
    "    'shortname': 'She is known to be called as Jyoti.',\n",
    "    'who': 'She is an undergraduate Computer Science student.',\n",
    "    'currentwork': 'She is pursuing graduation in Computer Science and Engineering from National Institute of Science and Technology.',\n",
    "    'journey': 'She did her matriculation and intermediate from D.A.V. Public School, MCL Bandhabahal under Delhi CBSE board.',\n",
    "    'passion': 'She is passionate about designing and customizing the things.',\n",
    "    'accomplishment': 'She got 2nd prize in Inter Zonal Painting Competition and 3rd prize in Inter Zonal Science Exhibition.',\n",
    "    'goals': 'She wants to be a good designer so that her minimalist designs and simplicity in code will help others. ',\n",
    "    'fallback': 'Sorry, I was not able to understand that.'\n",
    "}\n",
    "\n",
    "#Building the dictionary of general responses:\n",
    "gen_responses = {\n",
    "    'greet': \"Hi there, I am Alex.\\n\",\n",
    "    'what': \"I can tell you about Faizan and Jyoti.\",\n",
    "    'fallback': \"Sorry, I was not able to understand that.\"\n",
    "}"
   ]
  },
  {
   "cell_type": "code",
   "execution_count": 57,
   "metadata": {},
   "outputs": [
    {
     "output_type": "stream",
     "name": "stdout",
     "text": [
      "Alex is present now, You can start asking.\n",
      "who is faizan\n",
      "Sorry, I was not able to understand that.\n",
      "quit\n",
      "Good Bye!\n"
     ]
    }
   ],
   "source": [
    "#Initial message\n",
    "print(\"Alex is present now, You can start asking.\")\n",
    "#Infinite loop to run bot.\n",
    "while(True):\n",
    "    #Taking user input in lower case.\n",
    "    user_input = input()\n",
    "    print(user_input)\n",
    "    user_input = user_input.lower()\n",
    "\n",
    "    #Terminating program if encountered exit conditions.\n",
    "    if user_input == 'quit':\n",
    "        print(\"Good Bye!\")\n",
    "        break\n",
    "    elif user_input == 'thank you' or user_input == 'thanks':\n",
    "        print(\"Do you have any other queries?\")\n",
    "        t_in = input().lower()\n",
    "        if t_in == 'no':\n",
    "            print(\"Okay, Good Bye!\")\n",
    "            break\n",
    "        else:\n",
    "            print(\"Okay, you can continue asking...\")\n",
    "            continue\n",
    "    \n",
    "    matched_intent = None\n",
    "\n",
    "    for intent, pattern in dict_keywords.items():\n",
    "        if re.search(pattern, user_input):\n",
    "            matched_intent = intent\n",
    "    \n",
    "    key = 'fallback'\n",
    "\n",
    "    if 'faizan' in user_input:\n",
    "        if matched_intent in responses_f:\n",
    "            key = matched_intent\n",
    "        print(responses_f[key])\n",
    "\n",
    "    elif 'jyoti' in user_input:\n",
    "        if matched_intent in responses_j:\n",
    "            key = matched_intent\n",
    "        print(responses_j[key])\n",
    "        \n",
    "    else:\n",
    "        if matched_intent in gen_responses:\n",
    "            key = matched_intent\n",
    "        print(gen_responses[key])\n",
    "    \n"
   ]
  },
  {
   "cell_type": "code",
   "execution_count": null,
   "metadata": {},
   "outputs": [],
   "source": []
  }
 ]
}