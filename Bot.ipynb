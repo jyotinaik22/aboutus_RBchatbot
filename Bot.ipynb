{
 "metadata": {
  "language_info": {
   "codemirror_mode": {
    "name": "ipython",
    "version": 3
   },
   "file_extension": ".py",
   "mimetype": "text/x-python",
   "name": "python",
   "nbconvert_exporter": "python",
   "pygments_lexer": "ipython3",
   "version": "3.8.3-final"
  },
  "orig_nbformat": 2,
  "kernelspec": {
   "name": "python3",
   "display_name": "Python 3"
  }
 },
 "nbformat": 4,
 "nbformat_minor": 2,
 "cells": [
  {
   "cell_type": "code",
   "execution_count": 1,
   "metadata": {},
   "outputs": [],
   "source": [
    "#Required modules importing\n",
    "import re #Regular Explession library.\n",
    "from nltk.corpus import wordnet #NLP library files from NLTK library."
   ]
  },
  {
   "cell_type": "code",
   "execution_count": 12,
   "metadata": {},
   "outputs": [
    {
     "output_type": "stream",
     "name": "stdout",
     "text": [
      "{'name': {'call', 'identify', 'advert', 'cite', 'bring up', 'nominate', 'epithet', 'constitute', 'figure', 'public figure', 'list', 'mention', 'discover', 'make', 'name', 'distinguish', 'refer', 'appoint', 'gens', 'describe', 'diagnose', 'key out', 'key'}, 'nickname': {'soubriquet', 'sobriquet', 'byname', 'cognomen', 'moniker', 'dub', 'nickname'}, 'about': {'nigh', 'virtually', 'or so', 'more or less', 'almost', 'just about', 'some', 'about', 'roughly', 'around', 'approximately', 'close to', 'most', 'near', 'astir', 'nearly', 'well nigh'}, 'pursue': {'prosecute', 'engage', 'follow', 'act on', 'go after', 'pursue', 'quest for', 'follow up on', 'quest after'}, 'reached': {'get to', 'pass on', 'strive', 'progress to', 'gain', 'give', 'turn over', 'strain', 'hit', 'accomplish', 'achieve', 'get hold of', 'reach out', 'make', 'arrive at', 'contact', 'attain', 'reach', 'pass', 'get through', 'touch', 'extend to', 'hand'}, 'qualification': {'qualification', 'making', 'reservation'}, 'passion': {'love', 'rage', 'warmth', 'cacoethes', 'Passion of Christ', 'mania', 'Passion', 'passionateness', 'passion', 'heat'}, 'achievement': {'achievement', 'accomplishment'}, 'future': {'next', 'future tense', 'time to come', 'future', 'succeeding', 'hereafter', 'futurity'}, 'plan': {'plan', 'contrive', 'program', 'architectural plan', 'programme', 'be after', 'project', 'design'}}\n"
     ]
    }
   ],
   "source": [
    "#Building list of words\n",
    "words_list = ['name', 'nickname', 'about', 'pursue', 'reached', 'qualification', 'passion', 'achievement', 'future', 'plan']\n",
    "#Synonym dictionary\n",
    "syn_dict = {}\n",
    "#Building dictionary of words using wordnet\n",
    "for word in words_list:\n",
    "    synonyms = [] #Synonym list for the word\n",
    "    for syn in wordnet.synsets(word):\n",
    "        for lem in syn.lemmas():\n",
    "            lem_name = re.sub('[^a-zA-Z0-9 \\n\\.]', ' ', lem.name())\n",
    "            synonyms.append(lem_name)\n",
    "    syn_dict[word] = set(synonyms)\n",
    "print(syn_dict)"
   ]
  },
  {
   "cell_type": "code",
   "execution_count": 14,
   "metadata": {},
   "outputs": [],
   "source": [
    "#Building dictionary of Intents and Keywords\n",
    "keywords = {}\n",
    "#TODO@faizanazim11 modify learners code & complete rest code."
   ]
  },
  {
   "cell_type": "code",
   "execution_count": null,
   "metadata": {},
   "outputs": [],
   "source": []
  }
 ]
}