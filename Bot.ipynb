{
 "metadata": {
  "language_info": {
   "codemirror_mode": {
    "name": "ipython",
    "version": 3
   },
   "file_extension": ".py",
   "mimetype": "text/x-python",
   "name": "python",
   "nbconvert_exporter": "python",
   "pygments_lexer": "ipython3",
   "version": "3.8.3-final"
  },
  "orig_nbformat": 2,
  "kernelspec": {
   "name": "python3",
   "display_name": "Python 3"
  }
 },
 "nbformat": 4,
 "nbformat_minor": 2,
 "cells": [
  {
   "cell_type": "code",
   "execution_count": 2,
   "metadata": {},
   "outputs": [],
   "source": [
    "#Required modules importing\n",
    "import re #Regular Explession library.\n",
    "from nltk.corpus import wordnet #NLP library files from NLTK library."
   ]
  },
  {
   "cell_type": "code",
   "execution_count": 7,
   "metadata": {},
   "outputs": [
    {
     "output_type": "stream",
     "name": "stdout",
     "text": [
      "{'name': {'cite', 'call', 'refer', 'appoint', 'discover', 'figure', 'mention', 'key', 'name', 'list', 'identify', 'diagnose', 'key out', 'gens', 'nominate', 'bring up', 'describe', 'public figure', 'make', 'constitute', 'epithet', 'advert', 'distinguish'}, 'nickname': {'dub', 'sobriquet', 'nickname', 'moniker', 'cognomen', 'byname', 'soubriquet'}, 'about': {'nearly', 'or so', 'just about', 'most', 'well nigh', 'almost', 'some', 'approximately', 'astir', 'more or less', 'around', 'roughly', 'nigh', 'about', 'close to', 'near', 'virtually'}, 'pursue': {'quest after', 'act on', 'engage', 'pursue', 'prosecute', 'follow', 'follow up on', 'go after', 'quest for'}, 'reached': {'attain', 'get hold of', 'reach out', 'reach', 'strain', 'contact', 'give', 'get through', 'touch', 'arrive at', 'extend to', 'pass', 'get to', 'accomplish', 'pass on', 'hand', 'hit', 'make', 'strive', 'turn over', 'achieve', 'progress to', 'gain'}, 'qualification': {'reservation', 'making', 'qualification'}, 'passion': {'rage', 'love', 'warmth', 'passion', 'Passion of Christ', 'mania', 'Passion', 'heat', 'passionateness', 'cacoethes'}, 'achievement': {'achievement', 'accomplishment'}, 'future': {'futurity', 'future tense', 'next', 'hereafter', 'succeeding', 'time to come', 'future'}, 'plan': {'programme', 'program', 'contrive', 'plan', 'project', 'design', 'architectural plan', 'be after'}}\n"
     ]
    }
   ],
   "source": [
    "#Building list of words\n",
    "words_list = ['name', 'nickname', 'about', 'pursue', 'reached', 'qualification', 'passion', 'achievement', 'future', 'plan']\n",
    "#Synonym dictionary\n",
    "syn_dict = {}\n",
    "#Building dictionary of words using wordnet\n",
    "for word in words_list:\n",
    "    synonyms = [] #Synonym list for the word\n",
    "    for syn in wordnet.synsets(word):\n",
    "        for lem in syn.lemmas():\n",
    "            lem_name = re.sub('[^a-zA-Z0-9 \\n\\.]', ' ', lem.name())\n",
    "            synonyms.append(lem_name)\n",
    "    syn_dict[word] = set(synonyms)\n",
    "print(syn_dict)"
   ]
  },
  {
   "cell_type": "code",
   "execution_count": 8,
   "metadata": {},
   "outputs": [],
   "source": [
    "#Building dictionary of Intents and Keywords\n",
    "keywords = {}\n",
    "dict_keywords = {}\n",
    "\n",
    "#Defining new key in keywords dictionary.\n",
    "keywords['fullname'] = []\n",
    "\n",
    "#Adding values to keywords dictionary from synonyms of keyword and RegEx expressions.\n",
    "for synonym in list(syn_dict['name']):\n",
    "    keywords['fullname'].append('.*\\\\b'+synonym+'\\\\b.*')\n",
    "\n",
    "#Defining new key in keywords dictionary.\n",
    "keywords['shortname'] = []\n",
    "\n",
    "#Adding values to keywords dictionary from synonyms of keyword and RegEx expressions.\n",
    "for synonym in list(syn_dict['nickname']):\n",
    "    keywords['shortname'].append('.*\\\\b'+synonym+'\\\\b.*')\n",
    "\n",
    "#Defining new key in keywords dictionary.\n",
    "keywords['who'] = []\n",
    "\n",
    "#Adding values to keywords dictionary from synonyms of keyword and RegEx expressions.\n",
    "for synonym in list(syn_dict['about']):\n",
    "    keywords['who'].append('.*\\\\b'+synonym+'\\\\b.*')\n",
    "\n",
    "#Defining new key in keywords dictionary.\n",
    "keywords['currentwork'] = []\n",
    "\n",
    "#Adding values to keywords dictionary from synonyms of keyword and RegEx expressions.\n",
    "for synonym in list(syn_dict['pursue']):\n",
    "    keywords['currentwork'].append('.*\\\\b'+synonym+'\\\\b.*')\n",
    "\n",
    "#Defining new key in keywords dictionary.\n",
    "keywords['journey'] = []\n",
    "\n",
    "#Adding values to keywords dictionary from synonyms of keyword and RegEx expressions.\n",
    "for synonym in list(syn_dict['reached']):\n",
    "    keywords['journey'].append('.*\\\\b'+synonym+'\\\\b.*')\n",
    "\n",
    "\n",
    "#TODO@jyotinaik22 Define keys [qualification, passion, achievement, future, plan] and fill up their values, Review the words and if possible replace with better words.\n"
   ]
  },
  {
   "cell_type": "code",
   "execution_count": 10,
   "metadata": {},
   "outputs": [
    {
     "output_type": "stream",
     "name": "stdout",
     "text": [
      "{'fullname': re.compile('.*\\\\bcite\\\\b.*|.*\\\\bcall\\\\b.*|.*\\\\brefer\\\\b.*|.*\\\\bappoint\\\\b.*|.*\\\\bdiscover\\\\b.*|.*\\\\bfigure\\\\b.*|.*\\\\bmention\\\\b.*|.*\\\\bkey\\\\b.*|.*\\\\bname\\\\b.*|.*\\\\blist\\\\b.*|.*\\\\bidentify\\\\b.*|.*\\\\bdiagnose\\\\b.*), 'shortname': re.compile('.*\\\\bdub\\\\b.*|.*\\\\bsobriquet\\\\b.*|.*\\\\bnickname\\\\b.*|.*\\\\bmoniker\\\\b.*|.*\\\\bcognomen\\\\b.*|.*\\\\bbyname\\\\b.*|.*\\\\bsoubriquet\\\\b.*'), 'who': re.compile('.*\\\\bnearly\\\\b.*|.*\\\\bor so\\\\b.*|.*\\\\bjust about\\\\b.*|.*\\\\bmost\\\\b.*|.*\\\\bwell nigh\\\\b.*|.*\\\\balmost\\\\b.*|.*\\\\bsome\\\\b.*|.*\\\\bapproximately\\\\b.*|.*\\\\bastir\\\\b.*|.*\\\\bmore or less\\\\b.*|.*\\\\baround\\\\b.), 'currentwork': re.compile('.*\\\\bquest after\\\\b.*|.*\\\\bact on\\\\b.*|.*\\\\bengage\\\\b.*|.*\\\\bpursue\\\\b.*|.*\\\\bprosecute\\\\b.*|.*\\\\bfollow\\\\b.*|.*\\\\bfollow up on\\\\b.*|.*\\\\bgo after\\\\b.*|.*\\\\bquest for\\\\b.*'), 'journey': re.compile('.*\\\\battain\\\\b.*|.*\\\\bget hold of\\\\b.*|.*\\\\breach out\\\\b.*|.*\\\\breach\\\\b.*|.*\\\\bstrain\\\\b.*|.*\\\\bcontact\\\\b.*|.*\\\\bgive\\\\b.*|.*\\\\bget through\\\\b.*|.*\\\\btouch\\\\b.*|.*\\\\barrive at\\\\b.*|.*\\\\bextend to\\\\)}\n"
     ]
    }
   ],
   "source": [
    "#Joining the values in the keywords dictionary with the OR operator and updating dict_keywords.\n",
    "for intent, keys in keywords.items():\n",
    "    dict_keywords[intent] = re.compile('|'.join(keys))\n",
    "print(dict_keywords)"
   ]
  },
  {
   "cell_type": "code",
   "execution_count": 12,
   "metadata": {},
   "outputs": [],
   "source": [
    "#Building the dictionary of responses for Faizan:\n",
    "responses_f = {\n",
    "    'fullname': 'His full name is Faizan Azim.',\n",
    "    'shortname': 'He is known to be called as Faizan.',\n",
    "    'who': 'He is a Computer Science undergraduate from National Institute of Science and Technology.',\n",
    "    'currentwork': 'He is pursuing graduation in Computer Science and Engineering from National Institute of Science and Technology.',\n",
    "    'journey': \"Faizan has done his Matriculation from St. Xavier's High School under CBSE board of education. After that he did his Intermediate course in Science stream from Vignan Junior College under CHSE board of education.\",\n",
    "    'fallback': 'Sorry, I was not able to understand that.'\n",
    "}\n",
    "#TODO@faizanazim11 finish the dictionary of responses after completion of keywords dictionary, Create a general response dictionary.\n",
    "#TODO@jyotinaik22 Create the dictionary of responses for Jyoti.\n",
    "\n",
    "#TODO@faizanazim11 and @jyotinaik22 Create the chatbot loop."
   ]
  },
  {
   "cell_type": "code",
   "execution_count": null,
   "metadata": {},
   "outputs": [],
   "source": []
  }
 ]
}