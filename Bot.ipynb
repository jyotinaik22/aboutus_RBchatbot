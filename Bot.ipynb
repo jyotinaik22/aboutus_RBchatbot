{
 "metadata": {
  "language_info": {
   "codemirror_mode": {
    "name": "ipython",
    "version": 3
   },
   "file_extension": ".py",
   "mimetype": "text/x-python",
   "name": "python",
   "nbconvert_exporter": "python",
   "pygments_lexer": "ipython3",
   "version": "3.8.3-final"
  },
  "orig_nbformat": 2,
  "kernelspec": {
   "name": "python3",
   "display_name": "Python 3"
  }
 },
 "nbformat": 4,
 "nbformat_minor": 2,
 "cells": [
  {
   "cell_type": "code",
   "execution_count": 7,
   "metadata": {},
   "outputs": [],
   "source": [
    "#Required modules importing\n",
    "import re #Regular Explession library.\n",
    "from nltk.corpus import wordnet #NLP library files from NLTK library."
   ]
  },
  {
   "cell_type": "code",
   "execution_count": 8,
   "metadata": {},
   "outputs": [
    {
     "output_type": "stream",
     "name": "stdout",
     "text": [
      "{'name': {'name', 'key', 'discover', 'list', 'make', 'describe', 'key out', 'bring up', 'nominate', 'refer', 'figure', 'cite', 'identify', 'appoint', 'diagnose', 'public figure', 'gens', 'call', 'distinguish', 'mention', 'epithet', 'constitute', 'advert'}, 'nickname': {'soubriquet', 'nickname', 'dub', 'cognomen', 'byname', 'sobriquet', 'moniker'}, 'about': {'about', 'nearly', 'around', 'approximately', 'some', 'most', 'near', 'almost', 'or so', 'close to', 'astir', 'roughly', 'nigh', 'just about', 'virtually', 'well nigh', 'more or less'}, 'pursue': {'quest after', 'follow up on', 'follow', 'prosecute', 'go after', 'quest for', 'pursue', 'engage', 'act on'}, 'reached': {'attain', 'pass', 'strain', 'give', 'touch', 'arrive at', 'gain', 'get to', 'progress to', 'pass on', 'make', 'get hold of', 'strive', 'hand', 'reach', 'reach out', 'accomplish', 'get through', 'extend to', 'achieve', 'hit', 'turn over', 'contact'}, 'passion': {'passion', 'Passion of Christ', 'warmth', 'cacoethes', 'passionateness', 'Passion', 'love', 'mania', 'rage', 'heat'}, 'achievement': {'accomplishment', 'achievement'}, 'future_plan': set()}\n"
     ]
    }
   ],
   "source": [
    "#Building list of words\n",
    "words_list = ['name', 'nickname', 'about', 'pursue', 'reached', 'passion', 'achievement', 'future_plan']\n",
    "#Synonym dictionary\n",
    "syn_dict = {}\n",
    "#Building dictionary of words using wordnet\n",
    "for word in words_list:\n",
    "    synonyms = [] #Synonym list for the word\n",
    "    for syn in wordnet.synsets(word):\n",
    "        for lem in syn.lemmas():\n",
    "            lem_name = re.sub('[^a-zA-Z0-9 \\n\\.]', ' ', lem.name())\n",
    "            synonyms.append(lem_name)\n",
    "    syn_dict[word] = set(synonyms)\n",
    "print(syn_dict)"
   ]
  },
  {
   "cell_type": "code",
   "execution_count": 10,
   "metadata": {},
   "outputs": [
    {
     "output_type": "error",
     "ename": "KeyError",
     "evalue": "'accomplishment'",
     "traceback": [
      "\u001b[1;31m---------------------------------------------------------------------------\u001b[0m",
      "\u001b[1;31mKeyError\u001b[0m                                  Traceback (most recent call last)",
      "\u001b[1;32m<ipython-input-10-282235547be4>\u001b[0m in \u001b[0;36m<module>\u001b[1;34m\u001b[0m\n\u001b[0;32m     49\u001b[0m \u001b[1;33m\u001b[0m\u001b[0m\n\u001b[0;32m     50\u001b[0m \u001b[1;31m#Adding values to keywords dictionary from synonyms of keyword and RegEx expressions.\u001b[0m\u001b[1;33m\u001b[0m\u001b[1;33m\u001b[0m\u001b[1;33m\u001b[0m\u001b[0m\n\u001b[1;32m---> 51\u001b[1;33m \u001b[1;32mfor\u001b[0m \u001b[0msynonym\u001b[0m \u001b[1;32min\u001b[0m \u001b[0mlist\u001b[0m\u001b[1;33m(\u001b[0m\u001b[0msyn_dict\u001b[0m\u001b[1;33m[\u001b[0m\u001b[1;34m'accomplishment'\u001b[0m\u001b[1;33m]\u001b[0m\u001b[1;33m)\u001b[0m\u001b[1;33m:\u001b[0m\u001b[1;33m\u001b[0m\u001b[1;33m\u001b[0m\u001b[0m\n\u001b[0m\u001b[0;32m     52\u001b[0m     \u001b[0mkeywords\u001b[0m\u001b[1;33m[\u001b[0m\u001b[1;34m'achievement'\u001b[0m\u001b[1;33m]\u001b[0m\u001b[1;33m.\u001b[0m\u001b[0mappend\u001b[0m\u001b[1;33m(\u001b[0m\u001b[1;34m'.*\\\\b'\u001b[0m\u001b[1;33m+\u001b[0m\u001b[0msynonym\u001b[0m\u001b[1;33m+\u001b[0m\u001b[1;34m'\\\\b.*'\u001b[0m\u001b[1;33m)\u001b[0m\u001b[1;33m\u001b[0m\u001b[1;33m\u001b[0m\u001b[0m\n\u001b[0;32m     53\u001b[0m \u001b[1;33m\u001b[0m\u001b[0m\n",
      "\u001b[1;31mKeyError\u001b[0m: 'accomplishment'"
     ]
    }
   ],
   "source": [
    "#Building dictionary of Intents and Keywords\n",
    "keywords = {}\n",
    "dict_keywords = {}\n",
    "\n",
    "#Defining new key in keywords dictionary.\n",
    "keywords['fullname'] = []\n",
    "\n",
    "#Adding values to keywords dictionary from synonyms of keyword and RegEx expressions.\n",
    "for synonym in list(syn_dict['name']):\n",
    "    keywords['fullname'].append('.*\\\\b'+synonym+'\\\\b.*')\n",
    "\n",
    "#Defining new key in keywords dictionary.\n",
    "keywords['shortname'] = []\n",
    "\n",
    "#Adding values to keywords dictionary from synonyms of keyword and RegEx expressions.\n",
    "for synonym in list(syn_dict['nickname']):\n",
    "    keywords['shortname'].append('.*\\\\b'+synonym+'\\\\b.*')\n",
    "\n",
    "#Defining new key in keywords dictionary.\n",
    "keywords['who'] = []\n",
    "\n",
    "#Adding values to keywords dictionary from synonyms of keyword and RegEx expressions.\n",
    "for synonym in list(syn_dict['about']):\n",
    "    keywords['who'].append('.*\\\\b'+synonym+'\\\\b.*')\n",
    "\n",
    "#Defining new key in keywords dictionary.\n",
    "keywords['currentwork'] = []\n",
    "\n",
    "#Adding values to keywords dictionary from synonyms of keyword and RegEx expressions.\n",
    "for synonym in list(syn_dict['pursue']):\n",
    "    keywords['currentwork'].append('.*\\\\b'+synonym+'\\\\b.*')\n",
    "\n",
    "#Defining new key in keywords dictionary.\n",
    "keywords['journey'] = []\n",
    "\n",
    "#Adding values to keywords dictionary from synonyms of keyword and RegEx expressions.\n",
    "for synonym in list(syn_dict['reached']):\n",
    "    keywords['journey'].append('.*\\\\b'+synonym+'\\\\b.*')\n",
    "\n",
    "#Defining new key in keywords dictionary.\n",
    "keywords['passion'] = []\n",
    "\n",
    "#Adding values to keywords dictionary from synonyms of keyword and RegEx expressions.\n",
    "for synonym in list(syn_dict['passion']):\n",
    "    keywords['passion'].append('.*\\\\b'+synonym+'\\\\b.*')\n",
    "\n",
    "#Defining new key in keywords dictionary.\n",
    "keywords['achievement'] = []\n",
    "\n",
    "#Adding values to keywords dictionary from synonyms of keyword and RegEx expressions.\n",
    "for synonym in list(syn_dict['accomplishment']):\n",
    "    keywords['achievement'].append('.*\\\\b'+synonym+'\\\\b.*')\n",
    "\n",
    "#Defining new key in keywords dictionary.\n",
    "keywords['future_plan'] = []\n",
    "\n",
    "#Adding values to keywords dictionary from synonyms of keyword and RegEx expressions.\n",
    "for synonym in list(syn_dict['goals']):\n",
    "    keywords['future_plan'].append('.*\\\\b'+synonym+'\\\\b.*')\n",
    "\n"
   ]
  },
  {
   "cell_type": "code",
   "execution_count": 5,
   "metadata": {},
   "outputs": [
    {
     "output_type": "stream",
     "name": "stdout",
     "text": [
      "{'fullname': re.compile('.*\\\\bpublic figure\\\\b.*|.*\\\\bfigure\\\\b.*|.*\\\\bname\\\\b.*|.*\\\\bkey\\\\b.*|.*\\\\bappoint\\\\b.*|.*\\\\brefer\\\\b.*|.*\\\\bidentify\\\\b.*|.*\\\\bbring up\\\\b.*|.*\\\\bkey out\\\\b.*|.*\\\\bcite\\\\b.*|.*\\\\bgens\\\\b.*|.*\\\\bcall), 'shortname': re.compile('.*\\\\bnickname\\\\b.*|.*\\\\bsobriquet\\\\b.*|.*\\\\bmoniker\\\\b.*|.*\\\\bsoubriquet\\\\b.*|.*\\\\bdub\\\\b.*|.*\\\\bcognomen\\\\b.*|.*\\\\bbyname\\\\b.*'), 'who': re.compile('.*\\\\bvirtually\\\\b.*|.*\\\\bor so\\\\b.*|.*\\\\bnigh\\\\b.*|.*\\\\bwell nigh\\\\b.*|.*\\\\balmost\\\\b.*|.*\\\\bastir\\\\b.*|.*\\\\bclose to\\\\b.*|.*\\\\baround\\\\b.*|.*\\\\bnearly\\\\b.*|.*\\\\bnear\\\\b.*|.*\\\\bapproximately\\\\b.*|.*\\), 'currentwork': re.compile('.*\\\\bengage\\\\b.*|.*\\\\bfollow\\\\b.*|.*\\\\bact on\\\\b.*|.*\\\\bquest after\\\\b.*|.*\\\\bfollow up on\\\\b.*|.*\\\\bpursue\\\\b.*|.*\\\\bquest for\\\\b.*|.*\\\\bgo after\\\\b.*|.*\\\\bprosecute\\\\b.*'), 'journey': re.compile('.*\\\\bgain\\\\b.*|.*\\\\battain\\\\b.*|.*\\\\bget to\\\\b.*|.*\\\\btouch\\\\b.*|.*\\\\bprogress to\\\\b.*|.*\\\\bhit\\\\b.*|.*\\\\baccomplish\\\\b.*|.*\\\\bgive\\\\b.*|.*\\\\bachieve\\\\b.*|.*\\\\bmake\\\\b.*|.*\\\\bstrive\\\\b.*|.*\\\\bhand\\\\b)}\n"
     ]
    }
   ],
   "source": [
    "#Joining the values in the keywords dictionary with the OR operator and updating dict_keywords.\n",
    "for intent, keys in keywords.items():\n",
    "    dict_keywords[intent] = re.compile('|'.join(keys))\n",
    "print(dict_keywords)"
   ]
  },
  {
   "cell_type": "code",
   "execution_count": 6,
   "metadata": {},
   "outputs": [],
   "source": [
    "#Building the dictionary of responses for Faizan:\n",
    "responses_f = {\n",
    "    'fullname': 'His full name is Faizan Azim.',\n",
    "    'shortname': 'He is known to be called as Faizan.',\n",
    "    'who': 'He is a Computer Science undergraduate from National Institute of Science and Technology.',\n",
    "    'currentwork': 'He is pursuing graduation in Computer Science and Engineering from National Institute of Science and Technology.',\n",
    "    'journey': \"Faizan has done his Matriculation from St. Xavier's High School under CBSE board of education. After that he did his Intermediate course in Science stream from Vignan Junior College under CHSE board of education.\",\n",
    "    'fallback': 'Sorry, I was not able to understand that.'\n",
    "}\n",
    "#TODO@faizanazim11 finish the dictionary of responses after completion of keywords dictionary, Create a general response dictionary.\n",
    "#TODO@jyotinaik22 Create the dictionary of responses for Jyoti.\n",
    "responses_f ={\n",
    "    'fullname': 'Her full name is Jyotirmayee Naik.',\n",
    "    'shortname': 'She is known to be called as Jyoti.',\n",
    "    'who': 'She is an undergraduate Computer Science student.'\n",
    "    'currentwork': 'She is pursuing graduation in Computer Science and Engineering from National Institute of Science and Technology.',\n",
    "    'journey': 'She did her matriculation and intermediate from D.A.V. Public School, MCL Bandhabahal under Delhi CBSE board.',\n",
    "    'passion': 'She is passionate about designing and customizing the things.'\n",
    "    'achievement': 'She got 2nd prize in Inter Zonal Painting Competition and 3rd prize in Inter Zonal Science Exhibition.'\n",
    "    'future plan': 'She wants to be a good designer so that her minimalist designs and simplicity in code will help others. '\n",
    "\n",
    "\n",
    "#TODO@faizanazim11 and @jyotinaik22 Create the chatbot loop."
   ]
  },
  {
   "cell_type": "code",
   "execution_count": null,
   "metadata": {},
   "outputs": [],
   "source": []
  }
 ]
}